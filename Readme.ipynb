{
 "cells": [
  {
   "cell_type": "markdown",
   "id": "562e9041-5575-4a56-8c18-3f3c94d09291",
   "metadata": {},
   "source": [
    "jupyter工程安装环境\n",
    "1、完成anaconda安装\n",
    "2、在anaconda中选择环境或者新建环境。假设环境名叫：abc\n",
    "3、在anaconda prompt中激活abc。\n",
    "   输入：conda activate abc\n",
    "4、安装依赖  #如果本地没有安装过jupyterlab\n",
    "   输入：conda install jupyterlab         \n",
    "5、安装 ipykernel\n",
    "   输入：pip install ipykernel\n",
    "6、添加环境到 Jupyter 内核\n",
    "   输入：python -m ipykernel install --user --name abc --display-name \"My Custom Env\"\n",
    "   （注：abc是需要在jupyter运行的环境，\"My Custom Env\" 是希望在 JupyterLab 中显示的内核名称，可以同名）\n",
    "5、安装工程需要的其他依赖，比如：\n",
    "   输入：conda install numpy pandas\n",
    "6、添加环境变量到系统环境变量path\n",
    "   C:\\Users\\colou\\AppData\\Roaming\\Python\\Python311\\Scripts\n",
    "7、重新运行工程，工程根目录URL输入：jupyter lab\n",
    "   在kernel里选择abc\n",
    "   \n",
    "   \n",
    "   \n"
   ]
  }
 ],
 "metadata": {
  "kernelspec": {
   "display_name": "tensorflow-deep-learning",
   "language": "python",
   "name": "tensorflow-deep-learning"
  },
  "language_info": {
   "codemirror_mode": {
    "name": "ipython",
    "version": 3
   },
   "file_extension": ".py",
   "mimetype": "text/x-python",
   "name": "python",
   "nbconvert_exporter": "python",
   "pygments_lexer": "ipython3",
   "version": "3.11.5"
  }
 },
 "nbformat": 4,
 "nbformat_minor": 5
}
